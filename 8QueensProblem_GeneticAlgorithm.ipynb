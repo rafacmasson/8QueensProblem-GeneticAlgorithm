{
  "cells": [
    {
      "cell_type": "markdown",
      "metadata": {
        "id": "xizpeKZLEl1N"
      },
      "source": [
        "Importando Bibliotecas"
      ]
    },
    {
      "cell_type": "code",
      "execution_count": 13,
      "metadata": {
        "id": "dX2e7z8iB_nm"
      },
      "outputs": [],
      "source": [
        "import numpy as np\n",
        "import random as rd"
      ]
    },
    {
      "cell_type": "markdown",
      "metadata": {
        "id": "WRVV18YbEtm3"
      },
      "source": [
        "Inicializando a População"
      ]
    },
    {
      "cell_type": "code",
      "execution_count": 41,
      "metadata": {
        "id": "B3NofWmoDveL"
      },
      "outputs": [],
      "source": [
        "num_individuos = 1000\n",
        "num_rainhas = 8\n",
        "populacao_inicial = np.zeros((num_individuos, num_rainhas), dtype=int)\n",
        "\n",
        "for i in range(num_individuos):\n",
        "  for j in range(num_rainhas):\n",
        "    populacao_inicial[i][j] = rd.randrange(4)\n",
        "\n",
        "#for i in range(num_individuos):\n",
        "#  print(populacao_inicial[i])"
      ]
    },
    {
      "cell_type": "markdown",
      "metadata": {
        "id": "S0F3UEuuG9dR"
      },
      "source": [
        "Definindo a função de fitness"
      ]
    },
    {
      "cell_type": "code",
      "execution_count": 15,
      "metadata": {
        "id": "l6_qcfaQHGhf"
      },
      "outputs": [],
      "source": [
        "def fitness(ind):\n",
        "  \n",
        "  f = 0 #fitness\n",
        "\n",
        "  for i in range(num_rainhas-1):\n",
        "    for j in range(i+1, num_rainhas):\n",
        "      if ind[i] != ind[j] and abs(i-j) != abs(ind[i]-ind[j]):\n",
        "        f += 1\n",
        "\n",
        "  return f\n",
        "\n",
        "def retorna_fitness(populacao):\n",
        "  \n",
        "  fit = []\n",
        "  \n",
        "  for i in range(num_individuos):\n",
        "    f = fitness(populacao[i])\n",
        "    fit.append(f)\n",
        "\n",
        "  return fit\n",
        "  "
      ]
    },
    {
      "cell_type": "code",
      "execution_count": null,
      "metadata": {
        "id": "nvelKXOlMoP8"
      },
      "outputs": [],
      "source": [
        "#for i in range(10):\n",
        "  #print(fitness(populacao_inicial[i]))"
      ]
    },
    {
      "cell_type": "markdown",
      "metadata": {
        "id": "r0RgYG_AZRv8"
      },
      "source": [
        "Definindo função de seleção por torneio"
      ]
    },
    {
      "cell_type": "code",
      "execution_count": 39,
      "metadata": {
        "id": "hBn4pwjIY9d_"
      },
      "outputs": [],
      "source": [
        "def selecao_torneio(fitnesses):\n",
        "  \n",
        "  ind1 = -1\n",
        "  ind2 = -1\n",
        "\n",
        "  while ind1 == ind2:\n",
        "    # Torneio 1\n",
        "    sorteados = rd.sample(range(0, num_individuos), 3)\n",
        "    if fitnesses[sorteados[0]] > fitnesses[sorteados[1]] and fitnesses[sorteados[0]] > fitnesses[sorteados[2]]:\n",
        "      ind1 = sorteados[0]\n",
        "    elif fitnesses[sorteados[1]] > fitnesses[sorteados[2]]:\n",
        "      ind1 = sorteados[1]\n",
        "    else:\n",
        "      ind1 = sorteados[2]\n",
        "\n",
        "    # Torneio 2\n",
        "    sorteados = rd.sample(range(0, num_individuos), 3)\n",
        "    if fitnesses[sorteados[0]] > fitnesses[sorteados[1]] and fitnesses[sorteados[0]] > fitnesses[sorteados[2]]:\n",
        "      ind2 = sorteados[0]\n",
        "    elif fitnesses[sorteados[1]] > fitnesses[sorteados[2]]:\n",
        "      ind2 = sorteados[1]\n",
        "    else:\n",
        "      ind2 = sorteados[2]\n",
        "    \n",
        "\n",
        "  return ind1,ind2"
      ]
    },
    {
      "cell_type": "code",
      "execution_count": 42,
      "metadata": {
        "id": "Fwhk52v7bahW"
      },
      "outputs": [],
      "source": [
        "\n",
        "def selecao_torneio(fitnesses):\n",
        "  \n",
        "  ind1 = -1\n",
        "  ind2 = -1\n",
        "\n",
        "  while ind1 == ind2:\n",
        "    # Torneio 1\n",
        "    sorteados = rd.sample(range(0, num_individuos), 3)\n",
        "    if fitnesses[sorteados[0]] > fitnesses[sorteados[1]]:\n",
        "      ind1 = sorteados[0]\n",
        "    else:\n",
        "      ind1 = sorteados[1]\n",
        "\n",
        "    # Torneio 2\n",
        "    sorteados = rd.sample(range(0, num_individuos), 3)\n",
        "    if fitnesses[sorteados[0]] > fitnesses[sorteados[1]]:\n",
        "      ind2 = sorteados[0]\n",
        "    else:\n",
        "      ind2 = sorteados[1]\n",
        "\n",
        "\n",
        "  return ind1,ind2\n"
      ]
    },
    {
      "cell_type": "markdown",
      "metadata": {
        "id": "HuQ3VG0DZZpo"
      },
      "source": [
        "Definindo função de cruzamento de 1 ponto"
      ]
    },
    {
      "cell_type": "code",
      "execution_count": 17,
      "metadata": {
        "id": "th8DJCP-ZdQt"
      },
      "outputs": [],
      "source": [
        "def cruzamento(ids, populacao):\n",
        "  \n",
        "  ponto = rd.randrange(1, num_rainhas)\n",
        "\n",
        "  pai1 = populacao[ids[0]]\n",
        "  pai2 = populacao[ids[1]]\n",
        "\n",
        "  filho1 = np.concatenate([pai1[:ponto],pai2[ponto:]])\n",
        "  filho2 = np.concatenate([pai2[:ponto],pai1[ponto:]])\n",
        "\n",
        "  return filho1,filho2\n"
      ]
    },
    {
      "cell_type": "markdown",
      "metadata": {
        "id": "aYnQ-KJrbAcQ"
      },
      "source": [
        "Definindo a função de elitismo"
      ]
    },
    {
      "cell_type": "code",
      "execution_count": 18,
      "metadata": {
        "id": "o-Z5EBymbC95"
      },
      "outputs": [],
      "source": [
        "def elitismo(fitnesses):\n",
        "\n",
        "  id1 = fitnesses.index(max(fitnesses))\n",
        "\n",
        "  fitnesses.pop(id1)\n",
        "  id2 = fitnesses.index(max(fitnesses))\n",
        "\n",
        "  return id1,id2"
      ]
    },
    {
      "cell_type": "markdown",
      "metadata": {
        "id": "R3kd-3njcKQe"
      },
      "source": [
        "Definindo a função de mutação"
      ]
    },
    {
      "cell_type": "code",
      "execution_count": 19,
      "metadata": {
        "id": "0QF6vaKwcMqj"
      },
      "outputs": [],
      "source": [
        "def mutacao(filhos, taxa):\n",
        "\n",
        "  for i in range(len(filhos)):\n",
        "    if rd.random() < taxa:\n",
        "      pos = rd.randrange(num_rainhas)\n",
        "      filhos[i][pos] = rd.randrange(8)\n",
        "\n",
        "  return filhos\n"
      ]
    },
    {
      "cell_type": "markdown",
      "metadata": {
        "id": "7zk8C7d1c3z8"
      },
      "source": [
        "Código principal"
      ]
    },
    {
      "cell_type": "code",
      "execution_count": 43,
      "metadata": {
        "colab": {
          "base_uri": "https://localhost:8080/"
        },
        "id": "e1q5QpoAc7WV",
        "outputId": "8147e889-94d2-49dc-9ba8-32e921d82dc2"
      },
      "outputs": [
        {
          "name": "stdout",
          "output_type": "stream",
          "text": [
            "M0: 2  0  2  0  1  3  0  3 Fit = 22\n",
            "\n",
            "M1: 1  1  2  0  3  3  0  2 Fit = 23\n",
            "\n",
            "M2: 1  3  7  0  2  3  6  0 Fit = 25\n",
            "\n",
            "M3: 0  3  1  7  2  6  3  0 Fit = 26\n",
            "\n",
            "M4: 0  3  1  7  2  6  3  0 Fit = 26\n",
            "\n",
            "M5: 0  3  1  7  2  6  3  0 Fit = 26\n",
            "\n",
            "M6: 0  3  1  7  2  6  3  0 Fit = 26\n",
            "\n",
            "M7: 0  3  1  7  2  6  3  0 Fit = 26\n",
            "\n",
            "M8: 0  3  1  7  2  6  3  0 Fit = 26\n",
            "\n",
            "M9: 0  3  1  7  2  6  3  0 Fit = 26\n",
            "\n",
            "M10: 0  3  1  7  2  6  3  0 Fit = 26\n",
            "\n",
            "M11: 5  3  1  7  2  6  3  0 Fit = 27\n",
            "\n",
            "M12: 5  3  1  7  2  6  3  0 Fit = 27\n",
            "\n",
            "M13: 5  3  1  7  2  6  3  0 Fit = 27\n",
            "\n",
            "M14: 5  3  1  7  2  6  3  0 Fit = 27\n",
            "\n",
            "M15: 5  3  1  7  2  6  3  0 Fit = 27\n",
            "\n",
            "M16: 5  3  1  7  2  6  3  0 Fit = 27\n",
            "\n",
            "M17: 5  3  1  7  2  6  3  0 Fit = 27\n",
            "\n",
            "M18: 5  3  1  7  2  6  3  0 Fit = 27\n",
            "\n",
            "M19: 5  3  1  7  2  6  3  0 Fit = 27\n",
            "\n",
            "M20: 5  3  1  7  2  6  3  0 Fit = 27\n",
            "\n",
            "M21: 5  3  1  7  2  6  3  0 Fit = 27\n",
            "\n",
            "M22: 5  3  1  7  2  6  3  0 Fit = 27\n",
            "\n",
            "M23: 5  3  1  7  2  6  3  0 Fit = 27\n",
            "\n",
            "M24: 5  3  1  7  2  6  3  0 Fit = 27\n",
            "\n",
            "M25: 5  3  1  7  2  6  3  0 Fit = 27\n",
            "\n",
            "M26: 5  3  1  7  2  6  3  0 Fit = 27\n",
            "\n",
            "M27: 5  3  1  7  2  6  3  0 Fit = 27\n",
            "\n",
            "M28: 5  3  1  7  2  6  3  0 Fit = 27\n",
            "\n",
            "M29: 5  3  1  7  2  6  3  0 Fit = 27\n",
            "\n",
            "M30: 5  3  1  7  2  6  3  0 Fit = 27\n",
            "\n",
            "M31: 5  3  1  7  2  6  3  0 Fit = 27\n",
            "\n",
            "M32: 5  3  1  7  2  6  3  0 Fit = 27\n",
            "\n",
            "M33: 5  3  1  7  2  6  3  0 Fit = 27\n",
            "\n",
            "M34: 1  3  5  7  2  0  6  4 Fit = 28\n",
            "\n"
          ]
        }
      ],
      "source": [
        "# Número de gerações\n",
        "num_geracoes = 100\n",
        "fitness_otimo = 28\n",
        "repeticoes = 0\n",
        "fit_anterior = 0\n",
        "\n",
        "for it in range(num_geracoes):\n",
        "\n",
        "  # Nova populacao vazia\n",
        "  nova_populacao = np.zeros((num_individuos, num_rainhas), dtype=int)\n",
        "\n",
        "  # Calcula o fitness da população\n",
        "  fit = retorna_fitness(populacao_inicial)\n",
        "\n",
        "  # Imprime o melhor individuo\n",
        "  id_melhor = fit.index(max(fit))\n",
        "  print(f\"M{it}:\", '  '.join(map(str,populacao_inicial[id_melhor])), \"Fit =\", fit[id_melhor])\n",
        "  print()\n",
        "\n",
        "  # Contagem de repetições do maior fitness\n",
        "  if(fit_anterior == fit[id_melhor]):\n",
        "    repeticoes += 1\n",
        "  else:\n",
        "    repeticoes = 0\n",
        "\n",
        "  fit_anterior = fit[id_melhor]\n",
        "\n",
        "  # Condições de parada\n",
        "  if fit[id_melhor] == fitness_otimo or repeticoes == 30:\n",
        "    break\n",
        "\n",
        "  # Elitismo\n",
        "  elite = elitismo(fit.copy()) # Copiando por causa da referencia do vetor\n",
        "  nova_populacao[0] = populacao_inicial[elite[0]]\n",
        "  nova_populacao[1] = populacao_inicial[elite[1]]\n",
        "\n",
        "  # Gera os filhos restantes para completar a população\n",
        "  num_filhos = 2\n",
        "  while num_filhos < num_individuos:\n",
        "\n",
        "    # Seleção por torneio\n",
        "    ind_vencedores = selecao_torneio(fit)\n",
        "    \n",
        "    # Cruzamento\n",
        "    filhos = cruzamento(ind_vencedores, populacao_inicial)\n",
        "\n",
        "    # Mutacao (50% de chance de mutação em cada indivíduo)\n",
        "    filhos = mutacao(filhos, 0.5)\n",
        "\n",
        "    # Coloca os filhos na nova população\n",
        "    nova_populacao[num_filhos] = filhos[0]\n",
        "    nova_populacao[num_filhos+1] = filhos[1]\n",
        "\n",
        "    # Aumenta o número de filhos\n",
        "    num_filhos = num_filhos + 2\n",
        "\n",
        "  # Substitui a populacao antiga pela atual\n",
        "  populacao_inicial = nova_populacao.copy()\n"
      ]
    }
  ],
  "metadata": {
    "colab": {
      "provenance": []
    },
    "kernelspec": {
      "display_name": "Python 3",
      "language": "python",
      "name": "python3"
    },
    "language_info": {
      "codemirror_mode": {
        "name": "ipython",
        "version": 3
      },
      "file_extension": ".py",
      "mimetype": "text/x-python",
      "name": "python",
      "nbconvert_exporter": "python",
      "pygments_lexer": "ipython3",
      "version": "3.11.1"
    },
    "vscode": {
      "interpreter": {
        "hash": "318f2c383d48220c821fefd227250c35bb828f95042f5889a5ad1704b1baf79c"
      }
    }
  },
  "nbformat": 4,
  "nbformat_minor": 0
}
