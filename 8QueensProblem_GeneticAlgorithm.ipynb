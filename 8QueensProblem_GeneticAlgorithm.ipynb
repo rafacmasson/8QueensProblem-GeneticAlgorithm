{
  "cells": [
    {
      "cell_type": "markdown",
      "metadata": {
        "id": "xizpeKZLEl1N"
      },
      "source": [
        "Importando Bibliotecas"
      ]
    },
    {
      "cell_type": "code",
      "execution_count": 33,
      "metadata": {
        "id": "dX2e7z8iB_nm"
      },
      "outputs": [],
      "source": [
        "import numpy as np\n",
        "import random as rd"
      ]
    },
    {
      "cell_type": "markdown",
      "metadata": {
        "id": "WRVV18YbEtm3"
      },
      "source": [
        "Inicializando a população com 1000 indivíduos, sendo cada um deles uma lista de 8 números aleatórios de 0 a 7, que representam a posição das rainhas em cada coluna."
      ]
    },
    {
      "cell_type": "code",
      "execution_count": 34,
      "metadata": {
        "id": "B3NofWmoDveL"
      },
      "outputs": [],
      "source": [
        "num_individuos = 1000\n",
        "num_rainhas = 8\n",
        "populacao_inicial = np.zeros((num_individuos, num_rainhas), dtype=int)\n",
        "\n",
        "for i in range(num_individuos):\n",
        "  for j in range(num_rainhas):\n",
        "    populacao_inicial[i][j] = rd.randrange(8)"
      ]
    },
    {
      "cell_type": "markdown",
      "metadata": {
        "id": "S0F3UEuuG9dR"
      },
      "source": [
        "Definindo a função de fitness, que compara todos os pares de rainhas e somam na variável f caso elas não se ataquem"
      ]
    },
    {
      "cell_type": "code",
      "execution_count": 35,
      "metadata": {
        "id": "l6_qcfaQHGhf"
      },
      "outputs": [],
      "source": [
        "def fitness(ind):\n",
        "  \n",
        "  f = 0 #fitness\n",
        "\n",
        "  for i in range(num_rainhas-1):\n",
        "    for j in range(i+1, num_rainhas):\n",
        "      # Caso não estejam na mesma linha ou na mesma diagonal\n",
        "      if ind[i] != ind[j] and abs(i-j) != abs(ind[i]-ind[j]):\n",
        "        f += 1\n",
        "\n",
        "  return f\n",
        "\n",
        "def retorna_fitness(populacao):\n",
        "  \n",
        "  fit = []\n",
        "  \n",
        "  for i in range(num_individuos):\n",
        "    f = fitness(populacao[i])\n",
        "    fit.append(f)\n",
        "\n",
        "  return fit # Retorna uma lista de fitness dos indivíduos da população\n",
        "  "
      ]
    },
    {
      "cell_type": "markdown",
      "metadata": {
        "id": "r0RgYG_AZRv8"
      },
      "source": [
        "Definindo função de seleção por torneio. Nela, são escolhidos três indivíduos aleatórios da população e o com maior fitness é guardado na variável \"ind1\". Depois, o processo se repete e um outro indivíduo é armazenado na variável \"ind2\"."
      ]
    },
    {
      "cell_type": "code",
      "execution_count": 36,
      "metadata": {
        "id": "hBn4pwjIY9d_"
      },
      "outputs": [],
      "source": [
        "def selecao_torneio(fitnesses):\n",
        "  \n",
        "  ind1 = -1\n",
        "  ind2 = -1\n",
        "\n",
        "  while ind1 == ind2:\n",
        "    # Torneio 1\n",
        "    sorteados = rd.sample(range(0, num_individuos), 3)\n",
        "    if fitnesses[sorteados[0]] > fitnesses[sorteados[1]] and fitnesses[sorteados[0]] > fitnesses[sorteados[2]]:\n",
        "      ind1 = sorteados[0]\n",
        "    elif fitnesses[sorteados[1]] > fitnesses[sorteados[2]]:\n",
        "      ind1 = sorteados[1]\n",
        "    else:\n",
        "      ind1 = sorteados[2]\n",
        "\n",
        "    # Torneio 2\n",
        "    sorteados = rd.sample(range(0, num_individuos), 3)\n",
        "    if fitnesses[sorteados[0]] > fitnesses[sorteados[1]] and fitnesses[sorteados[0]] > fitnesses[sorteados[2]]:\n",
        "      ind2 = sorteados[0]\n",
        "    elif fitnesses[sorteados[1]] > fitnesses[sorteados[2]]:\n",
        "      ind2 = sorteados[1]\n",
        "    else:\n",
        "      ind2 = sorteados[2]\n",
        "    \n",
        "\n",
        "  return ind1,ind2"
      ]
    },
    {
      "cell_type": "markdown",
      "metadata": {
        "id": "HuQ3VG0DZZpo"
      },
      "source": [
        "Definindo função de cruzamento de 1 ponto. Nela, é escolhido um ponto aleatório para a realização do cruzamento dos indivíduos escolhidos na parte da seleção, gerando dois filhos."
      ]
    },
    {
      "cell_type": "code",
      "execution_count": 37,
      "metadata": {
        "id": "th8DJCP-ZdQt"
      },
      "outputs": [],
      "source": [
        "def cruzamento(ids, populacao):\n",
        "  \n",
        "  ponto = rd.randrange(1, num_rainhas)\n",
        "\n",
        "  pai1 = populacao[ids[0]]\n",
        "  pai2 = populacao[ids[1]]\n",
        "\n",
        "  filho1 = np.concatenate([pai1[:ponto], pai2[ponto:]])\n",
        "  filho2 = np.concatenate([pai2[:ponto], pai1[ponto:]])\n",
        "\n",
        "  return filho1,filho2\n"
      ]
    },
    {
      "cell_type": "markdown",
      "metadata": {
        "id": "aYnQ-KJrbAcQ"
      },
      "source": [
        "Definindo a função de elitismo, que retorna uma lista dos 10 indivíduos com maior fitness na população, para que eles passem direto para a próxima geração."
      ]
    },
    {
      "cell_type": "code",
      "execution_count": 38,
      "metadata": {
        "id": "o-Z5EBymbC95"
      },
      "outputs": [],
      "source": [
        "def elitismo(fitnesses):\n",
        "\n",
        "  id = []\n",
        "\n",
        "  for i in range(10):\n",
        "    id.append(fitnesses.index(max(fitnesses)))\n",
        "    fitnesses.pop(id[i])\n",
        "\n",
        "  return id"
      ]
    },
    {
      "cell_type": "markdown",
      "metadata": {
        "id": "R3kd-3njcKQe"
      },
      "source": [
        "Definindo a função de mutação. Nela, o elemento de uma posição aleatória é trocado por um número aleatório. Isso não acontece todas as vezes, dependendo da taxa de mutação definida, que é a chance que um indivíduo tem de sofrer mutação."
      ]
    },
    {
      "cell_type": "code",
      "execution_count": 39,
      "metadata": {
        "id": "0QF6vaKwcMqj"
      },
      "outputs": [],
      "source": [
        "def mutacao(filhos, taxa):\n",
        "\n",
        "  for i in range(len(filhos)):\n",
        "    if rd.random() < taxa:\n",
        "      pos = rd.randrange(num_rainhas)\n",
        "      filhos[i][pos] = rd.randrange(8)\n",
        "\n",
        "  return filhos\n"
      ]
    },
    {
      "cell_type": "markdown",
      "metadata": {
        "id": "7zk8C7d1c3z8"
      },
      "source": [
        "Código principal"
      ]
    },
    {
      "cell_type": "code",
      "execution_count": 40,
      "metadata": {
        "colab": {
          "base_uri": "https://localhost:8080/"
        },
        "id": "e1q5QpoAc7WV",
        "outputId": "b1b6ba50-7cdb-4727-fb6b-1629f7dff6b9"
      },
      "outputs": [
        {
          "name": "stdout",
          "output_type": "stream",
          "text": [
            "1a Geração: [ 3  5  3  1  6  7  2  4 ] ; Fit = 26\n",
            "\n",
            "2a Geração: [ 3  5  3  1  6  7  2  4 ] ; Fit = 26\n",
            "\n",
            "3a Geração: [ 3  5  3  1  6  7  2  4 ] ; Fit = 26\n",
            "\n",
            "4a Geração: [ 3  5  3  1  6  7  2  4 ] ; Fit = 26\n",
            "\n",
            "5a Geração: [ 7  2  4  6  0  5  3  1 ] ; Fit = 27\n",
            "\n",
            "6a Geração: [ 7  2  4  6  0  5  3  1 ] ; Fit = 27\n",
            "\n",
            "7a Geração: [ 7  2  4  6  0  5  3  1 ] ; Fit = 27\n",
            "\n",
            "8a Geração: [ 7  2  4  6  0  5  3  1 ] ; Fit = 27\n",
            "\n",
            "9a Geração: [ 7  2  4  6  0  5  3  1 ] ; Fit = 27\n",
            "\n",
            "10a Geração: [ 7  2  4  6  0  5  3  1 ] ; Fit = 27\n",
            "\n",
            "11a Geração: [ 7  2  4  6  0  5  3  1 ] ; Fit = 27\n",
            "\n",
            "12a Geração: [ 4  6  0  3  1  7  5  2 ] ; Fit = 28\n",
            "\n"
          ]
        }
      ],
      "source": [
        "# Número de gerações\n",
        "num_geracoes = 100\n",
        "fitness_otimo = 28\n",
        "repeticoes = 0\n",
        "fit_anterior = 0\n",
        "\n",
        "for it in range(num_geracoes):\n",
        "\n",
        "  # Nova populacao vazia\n",
        "  nova_populacao = np.zeros((num_individuos, num_rainhas), dtype=int)\n",
        "\n",
        "  # Calcula o fitness da população\n",
        "  fit = retorna_fitness(populacao_inicial)\n",
        "\n",
        "  # Imprime o melhor individuo\n",
        "  id_melhor = fit.index(max(fit))\n",
        "  print(f\"{it+1}a Geração: [\", '  '.join(map(str,populacao_inicial[id_melhor])), \"] ; Fit =\", fit[id_melhor])\n",
        "  print()\n",
        "\n",
        "  # Contagem de repetições do maior fitness\n",
        "  if(fit_anterior == fit[id_melhor]):\n",
        "    repeticoes += 1\n",
        "  else:\n",
        "    repeticoes = 0\n",
        "\n",
        "  fit_anterior = fit[id_melhor]\n",
        "\n",
        "  # Condições de parada\n",
        "  if fit[id_melhor] == fitness_otimo or repeticoes == 20:\n",
        "    break\n",
        "\n",
        "  # Elitismo\n",
        "  elite = elitismo(fit.copy()) # Copiando por causa da referencia do vetor\n",
        "\n",
        "  for i in range(10):\n",
        "    nova_populacao[i] = populacao_inicial[elite[i]]\n",
        "\n",
        "  # Gera os filhos restantes para completar a população\n",
        "  num_filhos = 2\n",
        "  while num_filhos < num_individuos:\n",
        "\n",
        "    # Seleção por torneio\n",
        "    ind_vencedores = selecao_torneio(fit)\n",
        "    \n",
        "    # Cruzamento\n",
        "    filhos = cruzamento(ind_vencedores, populacao_inicial)\n",
        "\n",
        "    # Mutacao (50% de chance de mutação em cada indivíduo)\n",
        "    filhos = mutacao(filhos, 0.1)\n",
        "\n",
        "    # Coloca os filhos na nova população\n",
        "    nova_populacao[num_filhos] = filhos[0]\n",
        "    nova_populacao[num_filhos+1] = filhos[1]\n",
        "\n",
        "    # Aumenta o número de filhos\n",
        "    num_filhos = num_filhos + 2\n",
        "\n",
        "  # Substitui a populacao antiga pela atual\n",
        "  populacao_inicial = nova_populacao.copy()\n"
      ]
    }
  ],
  "metadata": {
    "colab": {
      "provenance": []
    },
    "kernelspec": {
      "display_name": "Python 3",
      "name": "python3"
    },
    "language_info": {
      "name": "python"
    }
  },
  "nbformat": 4,
  "nbformat_minor": 0
}
